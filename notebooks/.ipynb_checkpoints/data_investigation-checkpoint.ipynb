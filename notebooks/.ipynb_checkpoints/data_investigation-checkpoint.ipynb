{
 "cells": [
  {
   "cell_type": "markdown",
   "metadata": {},
   "source": [
    "# Imports"
   ]
  },
  {
   "cell_type": "code",
   "execution_count": 1,
   "metadata": {},
   "outputs": [],
   "source": [
    "import pandas as pd"
   ]
  },
  {
   "cell_type": "markdown",
   "metadata": {},
   "source": [
    "# Events"
   ]
  },
  {
   "cell_type": "code",
   "execution_count": 9,
   "metadata": {},
   "outputs": [
    {
     "data": {
      "text/plain": [
       "16417"
      ]
     },
     "execution_count": 9,
     "metadata": {},
     "output_type": "execute_result"
    }
   ],
   "source": [
    "df = pd.read_csv('../scripts/events.csv')\n",
    "len(df)"
   ]
  },
  {
   "cell_type": "code",
   "execution_count": 10,
   "metadata": {},
   "outputs": [
    {
     "data": {
      "text/html": [
       "<div>\n",
       "<style scoped>\n",
       "    .dataframe tbody tr th:only-of-type {\n",
       "        vertical-align: middle;\n",
       "    }\n",
       "\n",
       "    .dataframe tbody tr th {\n",
       "        vertical-align: top;\n",
       "    }\n",
       "\n",
       "    .dataframe thead th {\n",
       "        text-align: right;\n",
       "    }\n",
       "</style>\n",
       "<table border=\"1\" class=\"dataframe\">\n",
       "  <thead>\n",
       "    <tr style=\"text-align: right;\">\n",
       "      <th></th>\n",
       "      <th>Unnamed: 0</th>\n",
       "      <th>_id</th>\n",
       "      <th>client</th>\n",
       "      <th>uuid</th>\n",
       "      <th>event_type</th>\n",
       "      <th>page</th>\n",
       "      <th>time</th>\n",
       "      <th>body</th>\n",
       "    </tr>\n",
       "  </thead>\n",
       "  <tbody>\n",
       "    <tr>\n",
       "      <th>0</th>\n",
       "      <td>619bf1e718378c9e2af962cf</td>\n",
       "      <td>619bf1e718378c9e2af962cf</td>\n",
       "      <td>premier</td>\n",
       "      <td>0ef1c956-44c1-4649-8b81-2a108e95475c</td>\n",
       "      <td>link</td>\n",
       "      <td>https://www.premierdeadsea-usa.com/en/checkout...</td>\n",
       "      <td>14984.0</td>\n",
       "      <td>{'action': 'click', 'link': 'https://www.premi...</td>\n",
       "    </tr>\n",
       "    <tr>\n",
       "      <th>1</th>\n",
       "      <td>619bf208c459460a57df39ee</td>\n",
       "      <td>619bf208c459460a57df39ee</td>\n",
       "      <td>premier</td>\n",
       "      <td>79163c66-bdcc-4daf-962c-ae3af4282c1f</td>\n",
       "      <td>start</td>\n",
       "      <td>/</td>\n",
       "      <td>0.0</td>\n",
       "      <td>{'ip': '174.243.112.108', 'agent': 'Mozilla/5....</td>\n",
       "    </tr>\n",
       "    <tr>\n",
       "      <th>2</th>\n",
       "      <td>619bf20dc459460a57df39f0</td>\n",
       "      <td>619bf20dc459460a57df39f0</td>\n",
       "      <td>premier</td>\n",
       "      <td>a5e5beb5-15ee-4c38-bacf-718bb8981e22</td>\n",
       "      <td>timeout</td>\n",
       "      <td>https://www.premierdeadsea-usa.com/en/perfecti...</td>\n",
       "      <td>20092.0</td>\n",
       "      <td>{'action': '20 Seconds timeout'}</td>\n",
       "    </tr>\n",
       "    <tr>\n",
       "      <th>3</th>\n",
       "      <td>619bf215c459460a57df39f2</td>\n",
       "      <td>619bf215c459460a57df39f2</td>\n",
       "      <td>premier</td>\n",
       "      <td>bb132745-aaaf-4b26-960c-4908fafdf4ba</td>\n",
       "      <td>timeout</td>\n",
       "      <td>https://www.premierdeadsea-usa.com/en/supreme-...</td>\n",
       "      <td>2983649.0</td>\n",
       "      <td>{'action': '20 Seconds timeout'}</td>\n",
       "    </tr>\n",
       "    <tr>\n",
       "      <th>4</th>\n",
       "      <td>619bf216c459460a57df39f3</td>\n",
       "      <td>619bf216c459460a57df39f3</td>\n",
       "      <td>premier</td>\n",
       "      <td>79163c66-bdcc-4daf-962c-ae3af4282c1f</td>\n",
       "      <td>link</td>\n",
       "      <td>https://www.premierdeadsea-usa.com/en/duo-kit-box</td>\n",
       "      <td>14624.0</td>\n",
       "      <td>{'action': 'click', 'link': 'https://www.premi...</td>\n",
       "    </tr>\n",
       "  </tbody>\n",
       "</table>\n",
       "</div>"
      ],
      "text/plain": [
       "                 Unnamed: 0                       _id   client  \\\n",
       "0  619bf1e718378c9e2af962cf  619bf1e718378c9e2af962cf  premier   \n",
       "1  619bf208c459460a57df39ee  619bf208c459460a57df39ee  premier   \n",
       "2  619bf20dc459460a57df39f0  619bf20dc459460a57df39f0  premier   \n",
       "3  619bf215c459460a57df39f2  619bf215c459460a57df39f2  premier   \n",
       "4  619bf216c459460a57df39f3  619bf216c459460a57df39f3  premier   \n",
       "\n",
       "                                   uuid event_type  \\\n",
       "0  0ef1c956-44c1-4649-8b81-2a108e95475c       link   \n",
       "1  79163c66-bdcc-4daf-962c-ae3af4282c1f      start   \n",
       "2  a5e5beb5-15ee-4c38-bacf-718bb8981e22    timeout   \n",
       "3  bb132745-aaaf-4b26-960c-4908fafdf4ba    timeout   \n",
       "4  79163c66-bdcc-4daf-962c-ae3af4282c1f       link   \n",
       "\n",
       "                                                page       time  \\\n",
       "0  https://www.premierdeadsea-usa.com/en/checkout...    14984.0   \n",
       "1                                                  /        0.0   \n",
       "2  https://www.premierdeadsea-usa.com/en/perfecti...    20092.0   \n",
       "3  https://www.premierdeadsea-usa.com/en/supreme-...  2983649.0   \n",
       "4  https://www.premierdeadsea-usa.com/en/duo-kit-box    14624.0   \n",
       "\n",
       "                                                body  \n",
       "0  {'action': 'click', 'link': 'https://www.premi...  \n",
       "1  {'ip': '174.243.112.108', 'agent': 'Mozilla/5....  \n",
       "2                   {'action': '20 Seconds timeout'}  \n",
       "3                   {'action': '20 Seconds timeout'}  \n",
       "4  {'action': 'click', 'link': 'https://www.premi...  "
      ]
     },
     "execution_count": 10,
     "metadata": {},
     "output_type": "execute_result"
    }
   ],
   "source": [
    "df.head()"
   ]
  },
  {
   "cell_type": "code",
   "execution_count": 11,
   "metadata": {},
   "outputs": [
    {
     "data": {
      "text/plain": [
       "array(['premier', 'premier_staging', 'premier_localhost', 'demosite_001'],\n",
       "      dtype=object)"
      ]
     },
     "execution_count": 11,
     "metadata": {},
     "output_type": "execute_result"
    }
   ],
   "source": [
    "df.client.unique()"
   ]
  },
  {
   "cell_type": "code",
   "execution_count": 12,
   "metadata": {},
   "outputs": [
    {
     "data": {
      "text/plain": [
       "['link',\n",
       " 'start',\n",
       " 'timeout',\n",
       " 'button',\n",
       " 'Scrolling_To_Second_Part',\n",
       " 'purchase',\n",
       " 'search']"
      ]
     },
     "execution_count": 12,
     "metadata": {},
     "output_type": "execute_result"
    }
   ],
   "source": [
    "list(df.event_type.unique())"
   ]
  },
  {
   "cell_type": "markdown",
   "metadata": {},
   "source": [
    "# Users"
   ]
  },
  {
   "cell_type": "code",
   "execution_count": 13,
   "metadata": {},
   "outputs": [
    {
     "data": {
      "text/plain": [
       "3413"
      ]
     },
     "execution_count": 13,
     "metadata": {},
     "output_type": "execute_result"
    }
   ],
   "source": [
    "df = pd.read_csv('../scripts/users.csv')\n",
    "len(df)"
   ]
  },
  {
   "cell_type": "code",
   "execution_count": 14,
   "metadata": {},
   "outputs": [
    {
     "data": {
      "text/html": [
       "<div>\n",
       "<style scoped>\n",
       "    .dataframe tbody tr th:only-of-type {\n",
       "        vertical-align: middle;\n",
       "    }\n",
       "\n",
       "    .dataframe tbody tr th {\n",
       "        vertical-align: top;\n",
       "    }\n",
       "\n",
       "    .dataframe thead th {\n",
       "        text-align: right;\n",
       "    }\n",
       "</style>\n",
       "<table border=\"1\" class=\"dataframe\">\n",
       "  <thead>\n",
       "    <tr style=\"text-align: right;\">\n",
       "      <th></th>\n",
       "      <th>Unnamed: 0</th>\n",
       "      <th>_id</th>\n",
       "      <th>client</th>\n",
       "      <th>uuid</th>\n",
       "      <th>last_time</th>\n",
       "      <th>first_visit_dt</th>\n",
       "      <th>last_visit_dt</th>\n",
       "      <th>sessions</th>\n",
       "      <th>assumed_behaviour</th>\n",
       "      <th>behaviour_changed</th>\n",
       "      <th>behaviour_escalated</th>\n",
       "      <th>bought_anything</th>\n",
       "      <th>bought_last_session</th>\n",
       "    </tr>\n",
       "  </thead>\n",
       "  <tbody>\n",
       "    <tr>\n",
       "      <th>0</th>\n",
       "      <td>619bf1e718378c9e2af962ce</td>\n",
       "      <td>619bf1e718378c9e2af962ce</td>\n",
       "      <td>premier</td>\n",
       "      <td>0ef1c956-44c1-4649-8b81-2a108e95475c</td>\n",
       "      <td>14984.0</td>\n",
       "      <td>2021-11-22 19:39:19.918</td>\n",
       "      <td>2021-11-22 19:39:19.918</td>\n",
       "      <td>0.0</td>\n",
       "      <td>NaN</td>\n",
       "      <td>0.0</td>\n",
       "      <td>0.0</td>\n",
       "      <td>0.0</td>\n",
       "      <td>0.0</td>\n",
       "    </tr>\n",
       "    <tr>\n",
       "      <th>1</th>\n",
       "      <td>619bf208c459460a57df39ed</td>\n",
       "      <td>619bf208c459460a57df39ed</td>\n",
       "      <td>premier</td>\n",
       "      <td>79163c66-bdcc-4daf-962c-ae3af4282c1f</td>\n",
       "      <td>20003.0</td>\n",
       "      <td>2021-11-22 13:39:52.171</td>\n",
       "      <td>2021-11-22 14:26:04.522</td>\n",
       "      <td>1.0</td>\n",
       "      <td>SB</td>\n",
       "      <td>0.0</td>\n",
       "      <td>0.0</td>\n",
       "      <td>0.0</td>\n",
       "      <td>0.0</td>\n",
       "    </tr>\n",
       "    <tr>\n",
       "      <th>2</th>\n",
       "      <td>619bf20dc459460a57df39ef</td>\n",
       "      <td>619bf20dc459460a57df39ef</td>\n",
       "      <td>premier</td>\n",
       "      <td>a5e5beb5-15ee-4c38-bacf-718bb8981e22</td>\n",
       "      <td>20003.0</td>\n",
       "      <td>2021-11-22 19:39:57.544</td>\n",
       "      <td>2021-11-24 23:53:38.442</td>\n",
       "      <td>0.0</td>\n",
       "      <td>SB</td>\n",
       "      <td>1.0</td>\n",
       "      <td>1.0</td>\n",
       "      <td>0.0</td>\n",
       "      <td>0.0</td>\n",
       "    </tr>\n",
       "    <tr>\n",
       "      <th>3</th>\n",
       "      <td>619bf215c459460a57df39f1</td>\n",
       "      <td>619bf215c459460a57df39f1</td>\n",
       "      <td>premier</td>\n",
       "      <td>bb132745-aaaf-4b26-960c-4908fafdf4ba</td>\n",
       "      <td>2983649.0</td>\n",
       "      <td>2021-11-22 19:40:05.258</td>\n",
       "      <td>2021-11-22 19:40:05.258</td>\n",
       "      <td>0.0</td>\n",
       "      <td>NaN</td>\n",
       "      <td>0.0</td>\n",
       "      <td>0.0</td>\n",
       "      <td>0.0</td>\n",
       "      <td>0.0</td>\n",
       "    </tr>\n",
       "    <tr>\n",
       "      <th>4</th>\n",
       "      <td>619bf22ac459460a57df39f5</td>\n",
       "      <td>619bf22ac459460a57df39f5</td>\n",
       "      <td>premier</td>\n",
       "      <td>b14688c9-ee46-4de2-b053-f3e78be4e939</td>\n",
       "      <td>20003.0</td>\n",
       "      <td>2021-11-22 21:40:26.772</td>\n",
       "      <td>2021-11-22 21:40:47.079</td>\n",
       "      <td>1.0</td>\n",
       "      <td>SB</td>\n",
       "      <td>0.0</td>\n",
       "      <td>0.0</td>\n",
       "      <td>0.0</td>\n",
       "      <td>0.0</td>\n",
       "    </tr>\n",
       "  </tbody>\n",
       "</table>\n",
       "</div>"
      ],
      "text/plain": [
       "                 Unnamed: 0                       _id   client  \\\n",
       "0  619bf1e718378c9e2af962ce  619bf1e718378c9e2af962ce  premier   \n",
       "1  619bf208c459460a57df39ed  619bf208c459460a57df39ed  premier   \n",
       "2  619bf20dc459460a57df39ef  619bf20dc459460a57df39ef  premier   \n",
       "3  619bf215c459460a57df39f1  619bf215c459460a57df39f1  premier   \n",
       "4  619bf22ac459460a57df39f5  619bf22ac459460a57df39f5  premier   \n",
       "\n",
       "                                   uuid  last_time           first_visit_dt  \\\n",
       "0  0ef1c956-44c1-4649-8b81-2a108e95475c    14984.0  2021-11-22 19:39:19.918   \n",
       "1  79163c66-bdcc-4daf-962c-ae3af4282c1f    20003.0  2021-11-22 13:39:52.171   \n",
       "2  a5e5beb5-15ee-4c38-bacf-718bb8981e22    20003.0  2021-11-22 19:39:57.544   \n",
       "3  bb132745-aaaf-4b26-960c-4908fafdf4ba  2983649.0  2021-11-22 19:40:05.258   \n",
       "4  b14688c9-ee46-4de2-b053-f3e78be4e939    20003.0  2021-11-22 21:40:26.772   \n",
       "\n",
       "             last_visit_dt  sessions assumed_behaviour  behaviour_changed  \\\n",
       "0  2021-11-22 19:39:19.918       0.0               NaN                0.0   \n",
       "1  2021-11-22 14:26:04.522       1.0                SB                0.0   \n",
       "2  2021-11-24 23:53:38.442       0.0                SB                1.0   \n",
       "3  2021-11-22 19:40:05.258       0.0               NaN                0.0   \n",
       "4  2021-11-22 21:40:47.079       1.0                SB                0.0   \n",
       "\n",
       "   behaviour_escalated  bought_anything  bought_last_session  \n",
       "0                  0.0              0.0                  0.0  \n",
       "1                  0.0              0.0                  0.0  \n",
       "2                  1.0              0.0                  0.0  \n",
       "3                  0.0              0.0                  0.0  \n",
       "4                  0.0              0.0                  0.0  "
      ]
     },
     "execution_count": 14,
     "metadata": {},
     "output_type": "execute_result"
    }
   ],
   "source": [
    "df.head()"
   ]
  },
  {
   "cell_type": "code",
   "execution_count": 15,
   "metadata": {},
   "outputs": [
    {
     "data": {
      "text/plain": [
       "[nan, 'SB', 'DP', 'BH', 'SL']"
      ]
     },
     "execution_count": 15,
     "metadata": {},
     "output_type": "execute_result"
    }
   ],
   "source": [
    "list(df.assumed_behaviour.unique())"
   ]
  },
  {
   "cell_type": "code",
   "execution_count": null,
   "metadata": {},
   "outputs": [],
   "source": []
  },
  {
   "cell_type": "markdown",
   "metadata": {},
   "source": [
    "# User Sessions"
   ]
  },
  {
   "cell_type": "code",
   "execution_count": 7,
   "metadata": {},
   "outputs": [
    {
     "data": {
      "text/plain": [
       "3368"
      ]
     },
     "execution_count": 7,
     "metadata": {},
     "output_type": "execute_result"
    }
   ],
   "source": [
    "df = pd.read_csv('../scripts/user_sessions.csv')\n",
    "len(df)"
   ]
  },
  {
   "cell_type": "code",
   "execution_count": 8,
   "metadata": {},
   "outputs": [
    {
     "data": {
      "text/html": [
       "<div>\n",
       "<style scoped>\n",
       "    .dataframe tbody tr th:only-of-type {\n",
       "        vertical-align: middle;\n",
       "    }\n",
       "\n",
       "    .dataframe tbody tr th {\n",
       "        vertical-align: top;\n",
       "    }\n",
       "\n",
       "    .dataframe thead th {\n",
       "        text-align: right;\n",
       "    }\n",
       "</style>\n",
       "<table border=\"1\" class=\"dataframe\">\n",
       "  <thead>\n",
       "    <tr style=\"text-align: right;\">\n",
       "      <th></th>\n",
       "      <th>Unnamed: 0</th>\n",
       "      <th>_id</th>\n",
       "      <th>client</th>\n",
       "      <th>uuid</th>\n",
       "      <th>time</th>\n",
       "      <th>ip</th>\n",
       "      <th>screen_width</th>\n",
       "      <th>screen_height</th>\n",
       "      <th>time_zone_hours</th>\n",
       "      <th>time_zone_mins</th>\n",
       "      <th>...</th>\n",
       "      <th>device_model</th>\n",
       "      <th>is_mobile</th>\n",
       "      <th>is_tablet</th>\n",
       "      <th>is_touch_capable</th>\n",
       "      <th>is_pc</th>\n",
       "      <th>is_bot</th>\n",
       "      <th>behaviour</th>\n",
       "      <th>no_time_limit_mode</th>\n",
       "      <th>replaced_generic_banner</th>\n",
       "      <th>events</th>\n",
       "    </tr>\n",
       "  </thead>\n",
       "  <tbody>\n",
       "    <tr>\n",
       "      <th>0</th>\n",
       "      <td>619bf208c459460a57df39ec</td>\n",
       "      <td>619bf208c459460a57df39ec</td>\n",
       "      <td>premier</td>\n",
       "      <td>79163c66-bdcc-4daf-962c-ae3af4282c1f</td>\n",
       "      <td>0.0</td>\n",
       "      <td>174.243.112.108</td>\n",
       "      <td>1920</td>\n",
       "      <td>1080</td>\n",
       "      <td>-6.0</td>\n",
       "      <td>0.0</td>\n",
       "      <td>...</td>\n",
       "      <td>NaN</td>\n",
       "      <td>0.0</td>\n",
       "      <td>0.0</td>\n",
       "      <td>0.0</td>\n",
       "      <td>1.0</td>\n",
       "      <td>0.0</td>\n",
       "      <td>NaN</td>\n",
       "      <td>0.0</td>\n",
       "      <td>1.0</td>\n",
       "      <td>[{'event_type': 'timeout', 'page': 'https://ww...</td>\n",
       "    </tr>\n",
       "    <tr>\n",
       "      <th>1</th>\n",
       "      <td>619bf22ac459460a57df39f4</td>\n",
       "      <td>619bf22ac459460a57df39f4</td>\n",
       "      <td>premier</td>\n",
       "      <td>b14688c9-ee46-4de2-b053-f3e78be4e939</td>\n",
       "      <td>0.0</td>\n",
       "      <td>5.29.60.14</td>\n",
       "      <td>2560</td>\n",
       "      <td>1440</td>\n",
       "      <td>2.0</td>\n",
       "      <td>0.0</td>\n",
       "      <td>...</td>\n",
       "      <td>Mac</td>\n",
       "      <td>False</td>\n",
       "      <td>False</td>\n",
       "      <td>False</td>\n",
       "      <td>True</td>\n",
       "      <td>False</td>\n",
       "      <td>NaN</td>\n",
       "      <td>False</td>\n",
       "      <td>True</td>\n",
       "      <td>[{'event_type': 'start', 'page': '/', 'time': ...</td>\n",
       "    </tr>\n",
       "    <tr>\n",
       "      <th>2</th>\n",
       "      <td>619bf289c459460a57df39f9</td>\n",
       "      <td>619bf289c459460a57df39f9</td>\n",
       "      <td>premier</td>\n",
       "      <td>12f7ea8d-8d11-4b0b-bc25-7ece020aba77</td>\n",
       "      <td>0.0</td>\n",
       "      <td>69.202.234.96</td>\n",
       "      <td>428</td>\n",
       "      <td>926</td>\n",
       "      <td>-5.0</td>\n",
       "      <td>0.0</td>\n",
       "      <td>...</td>\n",
       "      <td>iPhone</td>\n",
       "      <td>True</td>\n",
       "      <td>False</td>\n",
       "      <td>True</td>\n",
       "      <td>False</td>\n",
       "      <td>False</td>\n",
       "      <td>NaN</td>\n",
       "      <td>False</td>\n",
       "      <td>True</td>\n",
       "      <td>[{'event_type': 'start', 'page': '/', 'time': ...</td>\n",
       "    </tr>\n",
       "    <tr>\n",
       "      <th>3</th>\n",
       "      <td>619bf2d2c459460a57df39fe</td>\n",
       "      <td>619bf2d2c459460a57df39fe</td>\n",
       "      <td>premier</td>\n",
       "      <td>a97c2629-fcb0-444a-ba7f-2dac123c785a</td>\n",
       "      <td>0.0</td>\n",
       "      <td>102.134.167.239</td>\n",
       "      <td>393</td>\n",
       "      <td>873</td>\n",
       "      <td>2.0</td>\n",
       "      <td>0.0</td>\n",
       "      <td>...</td>\n",
       "      <td>Redmi Note 9 Pro</td>\n",
       "      <td>True</td>\n",
       "      <td>False</td>\n",
       "      <td>True</td>\n",
       "      <td>False</td>\n",
       "      <td>False</td>\n",
       "      <td>NaN</td>\n",
       "      <td>False</td>\n",
       "      <td>True</td>\n",
       "      <td>[{'event_type': 'start', 'page': '/', 'time': ...</td>\n",
       "    </tr>\n",
       "    <tr>\n",
       "      <th>4</th>\n",
       "      <td>619bf2ffc459460a57df3a04</td>\n",
       "      <td>619bf2ffc459460a57df3a04</td>\n",
       "      <td>premier</td>\n",
       "      <td>470e770c-0e30-4d9b-b363-7810790a4a23</td>\n",
       "      <td>0.0</td>\n",
       "      <td>71.38.206.147</td>\n",
       "      <td>375</td>\n",
       "      <td>812</td>\n",
       "      <td>-8.0</td>\n",
       "      <td>0.0</td>\n",
       "      <td>...</td>\n",
       "      <td>iPhone</td>\n",
       "      <td>True</td>\n",
       "      <td>False</td>\n",
       "      <td>True</td>\n",
       "      <td>False</td>\n",
       "      <td>False</td>\n",
       "      <td>NaN</td>\n",
       "      <td>False</td>\n",
       "      <td>True</td>\n",
       "      <td>[{'event_type': 'timeout', 'page': 'https://ww...</td>\n",
       "    </tr>\n",
       "  </tbody>\n",
       "</table>\n",
       "<p>5 rows × 27 columns</p>\n",
       "</div>"
      ],
      "text/plain": [
       "                 Unnamed: 0                       _id   client  \\\n",
       "0  619bf208c459460a57df39ec  619bf208c459460a57df39ec  premier   \n",
       "1  619bf22ac459460a57df39f4  619bf22ac459460a57df39f4  premier   \n",
       "2  619bf289c459460a57df39f9  619bf289c459460a57df39f9  premier   \n",
       "3  619bf2d2c459460a57df39fe  619bf2d2c459460a57df39fe  premier   \n",
       "4  619bf2ffc459460a57df3a04  619bf2ffc459460a57df3a04  premier   \n",
       "\n",
       "                                   uuid  time               ip  screen_width  \\\n",
       "0  79163c66-bdcc-4daf-962c-ae3af4282c1f   0.0  174.243.112.108          1920   \n",
       "1  b14688c9-ee46-4de2-b053-f3e78be4e939   0.0       5.29.60.14          2560   \n",
       "2  12f7ea8d-8d11-4b0b-bc25-7ece020aba77   0.0    69.202.234.96           428   \n",
       "3  a97c2629-fcb0-444a-ba7f-2dac123c785a   0.0  102.134.167.239           393   \n",
       "4  470e770c-0e30-4d9b-b363-7810790a4a23   0.0    71.38.206.147           375   \n",
       "\n",
       "   screen_height  time_zone_hours  time_zone_mins  ...      device_model  \\\n",
       "0           1080             -6.0             0.0  ...               NaN   \n",
       "1           1440              2.0             0.0  ...               Mac   \n",
       "2            926             -5.0             0.0  ...            iPhone   \n",
       "3            873              2.0             0.0  ...  Redmi Note 9 Pro   \n",
       "4            812             -8.0             0.0  ...            iPhone   \n",
       "\n",
       "  is_mobile is_tablet is_touch_capable  is_pc is_bot behaviour  \\\n",
       "0       0.0       0.0              0.0    1.0    0.0       NaN   \n",
       "1     False     False            False   True  False       NaN   \n",
       "2      True     False             True  False  False       NaN   \n",
       "3      True     False             True  False  False       NaN   \n",
       "4      True     False             True  False  False       NaN   \n",
       "\n",
       "  no_time_limit_mode replaced_generic_banner  \\\n",
       "0                0.0                     1.0   \n",
       "1              False                    True   \n",
       "2              False                    True   \n",
       "3              False                    True   \n",
       "4              False                    True   \n",
       "\n",
       "                                              events  \n",
       "0  [{'event_type': 'timeout', 'page': 'https://ww...  \n",
       "1  [{'event_type': 'start', 'page': '/', 'time': ...  \n",
       "2  [{'event_type': 'start', 'page': '/', 'time': ...  \n",
       "3  [{'event_type': 'start', 'page': '/', 'time': ...  \n",
       "4  [{'event_type': 'timeout', 'page': 'https://ww...  \n",
       "\n",
       "[5 rows x 27 columns]"
      ]
     },
     "execution_count": 8,
     "metadata": {},
     "output_type": "execute_result"
    }
   ],
   "source": [
    "df.head()"
   ]
  },
  {
   "cell_type": "code",
   "execution_count": null,
   "metadata": {},
   "outputs": [],
   "source": []
  },
  {
   "cell_type": "code",
   "execution_count": null,
   "metadata": {},
   "outputs": [],
   "source": []
  }
 ],
 "metadata": {
  "kernelspec": {
   "display_name": "Python 3",
   "language": "python",
   "name": "python3"
  },
  "language_info": {
   "codemirror_mode": {
    "name": "ipython",
    "version": 3
   },
   "file_extension": ".py",
   "mimetype": "text/x-python",
   "name": "python",
   "nbconvert_exporter": "python",
   "pygments_lexer": "ipython3",
   "version": "3.8.6"
  }
 },
 "nbformat": 4,
 "nbformat_minor": 4
}
