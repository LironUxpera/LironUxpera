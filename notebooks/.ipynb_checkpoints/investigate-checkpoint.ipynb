{
 "cells": [
  {
   "cell_type": "markdown",
   "metadata": {},
   "source": [
    "# Import"
   ]
  },
  {
   "cell_type": "code",
   "execution_count": 9,
   "metadata": {},
   "outputs": [],
   "source": [
    "import sys\n",
    "sys.path.append('../backend/')\n",
    "\n",
    "import math\n",
    "import random\n",
    "import pandas as pd\n",
    "from event import Event\n",
    "from user_agents import parse\n",
    "from bs4 import BeautifulSoup"
   ]
  },
  {
   "cell_type": "markdown",
   "metadata": {},
   "source": [
    "# Test reading behavior_mapping "
   ]
  },
  {
   "cell_type": "code",
   "execution_count": null,
   "metadata": {},
   "outputs": [],
   "source": [
    "df = pd.read_excel('../data/behavior_mapping.xlsx')\n",
    "df.head()"
   ]
  },
  {
   "cell_type": "code",
   "execution_count": null,
   "metadata": {},
   "outputs": [],
   "source": [
    "df.columns"
   ]
  },
  {
   "cell_type": "code",
   "execution_count": null,
   "metadata": {},
   "outputs": [],
   "source": [
    "s = '711,712,713,714,213,311,312'\n",
    "s.split(',')"
   ]
  },
  {
   "cell_type": "code",
   "execution_count": null,
   "metadata": {},
   "outputs": [],
   "source": [
    "def expand_commas(x):\n",
    "    return x.split(',')"
   ]
  },
  {
   "cell_type": "code",
   "execution_count": null,
   "metadata": {},
   "outputs": [],
   "source": [
    "df['copy'] = df['copy'].apply(expand_commas)\n",
    "df['cta'] = df['cta'].apply(expand_commas)"
   ]
  },
  {
   "cell_type": "code",
   "execution_count": null,
   "metadata": {},
   "outputs": [],
   "source": [
    "df"
   ]
  },
  {
   "cell_type": "code",
   "execution_count": null,
   "metadata": {},
   "outputs": [],
   "source": [
    "df.set_index('behavior', inplace=True)\n",
    "df"
   ]
  },
  {
   "cell_type": "code",
   "execution_count": null,
   "metadata": {},
   "outputs": [],
   "source": [
    "behavior = 'BH'"
   ]
  },
  {
   "cell_type": "code",
   "execution_count": null,
   "metadata": {},
   "outputs": [],
   "source": [
    "df.loc[behavior]"
   ]
  },
  {
   "cell_type": "code",
   "execution_count": null,
   "metadata": {},
   "outputs": [],
   "source": [
    "copy = random.choice(df.loc[behavior]['copy'])\n",
    "cta = random.choice(df.loc[behavior]['cta'])\n",
    "copy, cta"
   ]
  },
  {
   "cell_type": "markdown",
   "metadata": {},
   "source": [
    "## test reading copy & cta data"
   ]
  },
  {
   "cell_type": "code",
   "execution_count": 2,
   "metadata": {},
   "outputs": [
    {
     "data": {
      "text/html": [
       "<div>\n",
       "<style scoped>\n",
       "    .dataframe tbody tr th:only-of-type {\n",
       "        vertical-align: middle;\n",
       "    }\n",
       "\n",
       "    .dataframe tbody tr th {\n",
       "        vertical-align: top;\n",
       "    }\n",
       "\n",
       "    .dataframe thead th {\n",
       "        text-align: right;\n",
       "    }\n",
       "</style>\n",
       "<table border=\"1\" class=\"dataframe\">\n",
       "  <thead>\n",
       "    <tr style=\"text-align: right;\">\n",
       "      <th></th>\n",
       "      <th>id</th>\n",
       "      <th>copy1</th>\n",
       "      <th>copy2</th>\n",
       "      <th>ref</th>\n",
       "    </tr>\n",
       "  </thead>\n",
       "  <tbody>\n",
       "    <tr>\n",
       "      <th>0</th>\n",
       "      <td>111</td>\n",
       "      <td>\"Livia has been incredible for reducing my pms...</td>\n",
       "      <td>and allowing me to live my best life\"</td>\n",
       "      <td>(Trikcia R.)</td>\n",
       "    </tr>\n",
       "    <tr>\n",
       "      <th>1</th>\n",
       "      <td>112</td>\n",
       "      <td>\"Livia is just the best remedy for menstrual p...</td>\n",
       "      <td>NaN</td>\n",
       "      <td>(Trikcia R.)</td>\n",
       "    </tr>\n",
       "    <tr>\n",
       "      <th>2</th>\n",
       "      <td>113</td>\n",
       "      <td>\"Thanks to Livia now I can have a life while o...</td>\n",
       "      <td>I don't get stopped by the pain becuase it is ...</td>\n",
       "      <td>(GBC)</td>\n",
       "    </tr>\n",
       "    <tr>\n",
       "      <th>3</th>\n",
       "      <td>114</td>\n",
       "      <td>\"Livia is small, discrete, easy to work, and f...</td>\n",
       "      <td>I went to work and was able to do everything I...</td>\n",
       "      <td>(Tiffany H.)</td>\n",
       "    </tr>\n",
       "    <tr>\n",
       "      <th>4</th>\n",
       "      <td>115</td>\n",
       "      <td>\"This device has been really helpful during pa...</td>\n",
       "      <td>I wasn’t expecting but it honestly does.\"</td>\n",
       "      <td>(Bri B.)</td>\n",
       "    </tr>\n",
       "  </tbody>\n",
       "</table>\n",
       "</div>"
      ],
      "text/plain": [
       "    id                                              copy1  \\\n",
       "0  111  \"Livia has been incredible for reducing my pms...   \n",
       "1  112  \"Livia is just the best remedy for menstrual p...   \n",
       "2  113  \"Thanks to Livia now I can have a life while o...   \n",
       "3  114  \"Livia is small, discrete, easy to work, and f...   \n",
       "4  115  \"This device has been really helpful during pa...   \n",
       "\n",
       "                                               copy2           ref  \n",
       "0              and allowing me to live my best life\"  (Trikcia R.)  \n",
       "1                                                NaN  (Trikcia R.)  \n",
       "2  I don't get stopped by the pain becuase it is ...         (GBC)  \n",
       "3  I went to work and was able to do everything I...  (Tiffany H.)  \n",
       "4          I wasn’t expecting but it honestly does.\"      (Bri B.)  "
      ]
     },
     "execution_count": 2,
     "metadata": {},
     "output_type": "execute_result"
    }
   ],
   "source": [
    "df_copy = pd.read_csv('../data/copy-general-livia.csv')\n",
    "df_copy.head()"
   ]
  },
  {
   "cell_type": "code",
   "execution_count": 3,
   "metadata": {},
   "outputs": [],
   "source": [
    "copy = 112"
   ]
  },
  {
   "cell_type": "code",
   "execution_count": 4,
   "metadata": {},
   "outputs": [
    {
     "data": {
      "text/html": [
       "<div>\n",
       "<style scoped>\n",
       "    .dataframe tbody tr th:only-of-type {\n",
       "        vertical-align: middle;\n",
       "    }\n",
       "\n",
       "    .dataframe tbody tr th {\n",
       "        vertical-align: top;\n",
       "    }\n",
       "\n",
       "    .dataframe thead th {\n",
       "        text-align: right;\n",
       "    }\n",
       "</style>\n",
       "<table border=\"1\" class=\"dataframe\">\n",
       "  <thead>\n",
       "    <tr style=\"text-align: right;\">\n",
       "      <th></th>\n",
       "      <th>id</th>\n",
       "      <th>copy1</th>\n",
       "      <th>copy2</th>\n",
       "      <th>ref</th>\n",
       "    </tr>\n",
       "  </thead>\n",
       "  <tbody>\n",
       "    <tr>\n",
       "      <th>1</th>\n",
       "      <td>112</td>\n",
       "      <td>\"Livia is just the best remedy for menstrual p...</td>\n",
       "      <td>NaN</td>\n",
       "      <td>(Trikcia R.)</td>\n",
       "    </tr>\n",
       "  </tbody>\n",
       "</table>\n",
       "</div>"
      ],
      "text/plain": [
       "    id                                              copy1 copy2           ref\n",
       "1  112  \"Livia is just the best remedy for menstrual p...   NaN  (Trikcia R.)"
      ]
     },
     "execution_count": 4,
     "metadata": {},
     "output_type": "execute_result"
    }
   ],
   "source": [
    "df_copy[df_copy.id == int(copy)]"
   ]
  },
  {
   "cell_type": "code",
   "execution_count": 5,
   "metadata": {},
   "outputs": [
    {
     "data": {
      "text/plain": [
       "nan"
      ]
     },
     "execution_count": 5,
     "metadata": {},
     "output_type": "execute_result"
    }
   ],
   "source": [
    "res = df_copy[df_copy.id == int(copy)].iloc[0]['copy2']\n",
    "res"
   ]
  },
  {
   "cell_type": "code",
   "execution_count": 10,
   "metadata": {},
   "outputs": [
    {
     "data": {
      "text/plain": [
       "True"
      ]
     },
     "execution_count": 10,
     "metadata": {},
     "output_type": "execute_result"
    }
   ],
   "source": [
    "math.isnan(res)"
   ]
  },
  {
   "cell_type": "code",
   "execution_count": null,
   "metadata": {},
   "outputs": [],
   "source": [
    "df_copy[df_copy.id == int(copy)].iloc[0]['ref']"
   ]
  },
  {
   "cell_type": "code",
   "execution_count": null,
   "metadata": {},
   "outputs": [],
   "source": []
  },
  {
   "cell_type": "code",
   "execution_count": null,
   "metadata": {},
   "outputs": [],
   "source": [
    "df_cta = pd.read_csv('../data/cta-general.csv')\n",
    "df_cta.head()"
   ]
  },
  {
   "cell_type": "code",
   "execution_count": null,
   "metadata": {},
   "outputs": [],
   "source": [
    "df_cta[df_cta.id == int(cta)].iloc[0]['cta']"
   ]
  },
  {
   "cell_type": "code",
   "execution_count": null,
   "metadata": {},
   "outputs": [],
   "source": []
  },
  {
   "cell_type": "code",
   "execution_count": null,
   "metadata": {},
   "outputs": [],
   "source": []
  },
  {
   "cell_type": "code",
   "execution_count": null,
   "metadata": {},
   "outputs": [],
   "source": []
  },
  {
   "cell_type": "markdown",
   "metadata": {},
   "source": [
    "# Test using beutiful soup to replace text in banners"
   ]
  },
  {
   "cell_type": "code",
   "execution_count": null,
   "metadata": {},
   "outputs": [],
   "source": [
    "with open('../banners/desktop_1000x100_promotional.html', 'rt') as file:\n",
    "    html = file.read()\n",
    "print(html)"
   ]
  },
  {
   "cell_type": "code",
   "execution_count": null,
   "metadata": {},
   "outputs": [],
   "source": [
    "soup = BeautifulSoup(html)\n",
    "print(soup.prettify())"
   ]
  },
  {
   "cell_type": "code",
   "execution_count": null,
   "metadata": {},
   "outputs": [],
   "source": [
    "result = soup.find(id='SEE_PLANS_AND_PRICING')\n",
    "# a = HTMLDocument.find(id='SEE_PLANS_AND_PRICING')\n",
    "print(result)"
   ]
  },
  {
   "cell_type": "code",
   "execution_count": null,
   "metadata": {},
   "outputs": [],
   "source": [
    "new = f'<div id=\"SEE_PLANS_AND_PRICING\"><span>something_else</span></div>'\n",
    "new_soup = BeautifulSoup(new)\n",
    "print(new_soup)"
   ]
  },
  {
   "cell_type": "code",
   "execution_count": null,
   "metadata": {},
   "outputs": [],
   "source": [
    "result.replace_with(new_soup)"
   ]
  },
  {
   "cell_type": "code",
   "execution_count": null,
   "metadata": {},
   "outputs": [],
   "source": [
    "print(soup.prettify())"
   ]
  },
  {
   "cell_type": "code",
   "execution_count": null,
   "metadata": {},
   "outputs": [],
   "source": [
    "type(soup.prettify())"
   ]
  },
  {
   "cell_type": "code",
   "execution_count": null,
   "metadata": {},
   "outputs": [],
   "source": []
  },
  {
   "cell_type": "code",
   "execution_count": null,
   "metadata": {},
   "outputs": [],
   "source": []
  },
  {
   "cell_type": "markdown",
   "metadata": {},
   "source": [
    "# Test parsing events"
   ]
  },
  {
   "cell_type": "code",
   "execution_count": null,
   "metadata": {},
   "outputs": [],
   "source": [
    "start_msg = {\n",
    "  \"messageId\": \"c79b105b-bf2d-4b22-947e-1bfdbfac57b4\",\n",
    "  \"receiptHandle\": \"AQEBYcREbIu6ZqeATmhhMiTvoWXrHfRjsgcidDeJun0kBooQZsNqxRzogm3KH+mQXwn5XYhzYpBW+3gf2Rxk/R2W2GfMnmAQcsYa2805agQO9+9bT7WQdh6WURhE9FdPTjPCp7sFZkjvupr3+7dpAbvRV/UhKSquZVH7vmRcQqXyZostB42dcSjQDRNhaoCZ/r/uSSEDTpZtCaZz2WXo8c3u8Dc6tanCtPrRzfSEYvS2ied4fviGMjy2RPC9pXSfi+ViSLydQlfuXgwJUEiFDO5Kxg==\",\n",
    "  \"body\": \"{\\\"ip\\\":\\\"185.175.34.202\\\",\\\"agent\\\":\\\"Mozilla/5.0 (Macintosh; Intel Mac OS X 10_15_7) AppleWebKit/537.36 (KHTML, like Gecko) Chrome/92.0.4515.107 Safari/537.36\\\",\\\"screen_size\\\":\\\"2560x1440\\\",\\\"time_zone\\\":\\\"+3\\\"}\",\n",
    "  \"attributes\": {\n",
    "    \"ApproximateReceiveCount\": \"1\",\n",
    "    \"SentTimestamp\": \"1628343373693\",\n",
    "    \"SequenceNumber\": \"18863599977374960128\",\n",
    "    \"MessageGroupId\": \"97e53c55-cdc0-40b4-87a0-a51cdd4c17d3\",\n",
    "    \"SenderId\": \"AIDAWTW4GHYIPYQUGRWYU\",\n",
    "    \"MessageDeduplicationId\": \"ace111fd2d7a1ca393732763a5aec06f12cbb0df34228b4e5c3b6effe812f1d6\",\n",
    "    \"ApproximateFirstReceiveTimestamp\": \"1628343373693\"\n",
    "  },\n",
    "  \"messageAttributes\": {\n",
    "    \"Type\": {\n",
    "      \"stringValue\": \"start\",\n",
    "      \"stringListValues\": [],\n",
    "      \"binaryListValues\": [],\n",
    "      \"dataType\": \"String\"\n",
    "    },\n",
    "    \"Time\": {\n",
    "      \"stringValue\": \"0\",\n",
    "      \"stringListValues\": [],\n",
    "      \"binaryListValues\": [],\n",
    "      \"dataType\": \"Number\"\n",
    "    },\n",
    "    \"Client\": {\n",
    "      \"stringValue\": \"245678\",\n",
    "      \"stringListValues\": [],\n",
    "      \"binaryListValues\": [],\n",
    "      \"dataType\": \"String\"\n",
    "    },\n",
    "    \"UUID\": {\n",
    "      \"stringValue\": \"97e53c55-cdc0-40b4-87a0-a51cdd4c17d3\",\n",
    "      \"stringListValues\": [],\n",
    "      \"binaryListValues\": [],\n",
    "      \"dataType\": \"String\"\n",
    "    },\n",
    "    \"Compressed\": {\n",
    "      \"stringValue\": \"false\",\n",
    "      \"stringListValues\": [],\n",
    "      \"binaryListValues\": [],\n",
    "      \"dataType\": \"String\"\n",
    "    }\n",
    "  },\n",
    "  \"md5OfBody\": \"5d1b50ff7bff6ab229285b4f2a22dd57\",\n",
    "  \"md5OfMessageAttributes\": \"2e2edb97370053835f75a9c0bbffb8ae\",\n",
    "  \"eventSource\": \"aws:sqs\",\n",
    "  \"eventSourceARN\": \"arn:aws:sqs:us-east-1:454654574096:events.fifo\",\n",
    "  \"awsRegion\": \"us-east-1\"\n",
    "}\n"
   ]
  },
  {
   "cell_type": "code",
   "execution_count": null,
   "metadata": {},
   "outputs": [],
   "source": [
    "event_obj = Event()\n",
    "event_obj.parse(start_msg)"
   ]
  },
  {
   "cell_type": "code",
   "execution_count": null,
   "metadata": {},
   "outputs": [],
   "source": [
    "print(event_obj)"
   ]
  },
  {
   "cell_type": "code",
   "execution_count": null,
   "metadata": {},
   "outputs": [],
   "source": [
    "ua_string = event_obj.body['agent']\n",
    "user_agent = parse(ua_string)"
   ]
  },
  {
   "cell_type": "code",
   "execution_count": null,
   "metadata": {},
   "outputs": [],
   "source": [
    "user_agent.browser.family, user_agent.browser.version"
   ]
  },
  {
   "cell_type": "code",
   "execution_count": null,
   "metadata": {},
   "outputs": [],
   "source": [
    "user_agent.os.family, user_agent.os.version"
   ]
  },
  {
   "cell_type": "code",
   "execution_count": null,
   "metadata": {},
   "outputs": [],
   "source": [
    "user_agent.device.family, user_agent.device.brand, user_agent.device.model"
   ]
  },
  {
   "cell_type": "code",
   "execution_count": null,
   "metadata": {},
   "outputs": [],
   "source": [
    "user_agent.is_mobile, user_agent.is_tablet, user_agent.is_touch_capable, user_agent.is_pc, user_agent.is_bot"
   ]
  },
  {
   "cell_type": "code",
   "execution_count": null,
   "metadata": {},
   "outputs": [],
   "source": []
  },
  {
   "cell_type": "code",
   "execution_count": null,
   "metadata": {},
   "outputs": [],
   "source": []
  }
 ],
 "metadata": {
  "kernelspec": {
   "display_name": "Python 3",
   "language": "python",
   "name": "python3"
  },
  "language_info": {
   "codemirror_mode": {
    "name": "ipython",
    "version": 3
   },
   "file_extension": ".py",
   "mimetype": "text/x-python",
   "name": "python",
   "nbconvert_exporter": "python",
   "pygments_lexer": "ipython3",
   "version": "3.8.6"
  }
 },
 "nbformat": 4,
 "nbformat_minor": 4
}
