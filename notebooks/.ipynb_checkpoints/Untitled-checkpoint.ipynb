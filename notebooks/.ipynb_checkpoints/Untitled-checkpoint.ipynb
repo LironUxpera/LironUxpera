{
 "cells": [
  {
   "cell_type": "markdown",
   "metadata": {},
   "source": [
    "# Import"
   ]
  },
  {
   "cell_type": "code",
   "execution_count": 7,
   "metadata": {},
   "outputs": [],
   "source": [
    "import sys\n",
    "sys.path.append('../backend/')\n",
    "\n",
    "from event import Event\n",
    "from user_agents import parse"
   ]
  },
  {
   "cell_type": "markdown",
   "metadata": {},
   "source": [
    "# Test parsing events"
   ]
  },
  {
   "cell_type": "code",
   "execution_count": 2,
   "metadata": {},
   "outputs": [],
   "source": [
    "start_msg = {\n",
    "  \"messageId\": \"c79b105b-bf2d-4b22-947e-1bfdbfac57b4\",\n",
    "  \"receiptHandle\": \"AQEBYcREbIu6ZqeATmhhMiTvoWXrHfRjsgcidDeJun0kBooQZsNqxRzogm3KH+mQXwn5XYhzYpBW+3gf2Rxk/R2W2GfMnmAQcsYa2805agQO9+9bT7WQdh6WURhE9FdPTjPCp7sFZkjvupr3+7dpAbvRV/UhKSquZVH7vmRcQqXyZostB42dcSjQDRNhaoCZ/r/uSSEDTpZtCaZz2WXo8c3u8Dc6tanCtPrRzfSEYvS2ied4fviGMjy2RPC9pXSfi+ViSLydQlfuXgwJUEiFDO5Kxg==\",\n",
    "  \"body\": \"{\\\"ip\\\":\\\"185.175.34.202\\\",\\\"agent\\\":\\\"Mozilla/5.0 (Macintosh; Intel Mac OS X 10_15_7) AppleWebKit/537.36 (KHTML, like Gecko) Chrome/92.0.4515.107 Safari/537.36\\\",\\\"screen_size\\\":\\\"2560x1440\\\",\\\"time_zone\\\":\\\"+3\\\"}\",\n",
    "  \"attributes\": {\n",
    "    \"ApproximateReceiveCount\": \"1\",\n",
    "    \"SentTimestamp\": \"1628343373693\",\n",
    "    \"SequenceNumber\": \"18863599977374960128\",\n",
    "    \"MessageGroupId\": \"97e53c55-cdc0-40b4-87a0-a51cdd4c17d3\",\n",
    "    \"SenderId\": \"AIDAWTW4GHYIPYQUGRWYU\",\n",
    "    \"MessageDeduplicationId\": \"ace111fd2d7a1ca393732763a5aec06f12cbb0df34228b4e5c3b6effe812f1d6\",\n",
    "    \"ApproximateFirstReceiveTimestamp\": \"1628343373693\"\n",
    "  },\n",
    "  \"messageAttributes\": {\n",
    "    \"Type\": {\n",
    "      \"stringValue\": \"start\",\n",
    "      \"stringListValues\": [],\n",
    "      \"binaryListValues\": [],\n",
    "      \"dataType\": \"String\"\n",
    "    },\n",
    "    \"Time\": {\n",
    "      \"stringValue\": \"0\",\n",
    "      \"stringListValues\": [],\n",
    "      \"binaryListValues\": [],\n",
    "      \"dataType\": \"Number\"\n",
    "    },\n",
    "    \"Client\": {\n",
    "      \"stringValue\": \"245678\",\n",
    "      \"stringListValues\": [],\n",
    "      \"binaryListValues\": [],\n",
    "      \"dataType\": \"String\"\n",
    "    },\n",
    "    \"UUID\": {\n",
    "      \"stringValue\": \"97e53c55-cdc0-40b4-87a0-a51cdd4c17d3\",\n",
    "      \"stringListValues\": [],\n",
    "      \"binaryListValues\": [],\n",
    "      \"dataType\": \"String\"\n",
    "    },\n",
    "    \"Compressed\": {\n",
    "      \"stringValue\": \"false\",\n",
    "      \"stringListValues\": [],\n",
    "      \"binaryListValues\": [],\n",
    "      \"dataType\": \"String\"\n",
    "    }\n",
    "  },\n",
    "  \"md5OfBody\": \"5d1b50ff7bff6ab229285b4f2a22dd57\",\n",
    "  \"md5OfMessageAttributes\": \"2e2edb97370053835f75a9c0bbffb8ae\",\n",
    "  \"eventSource\": \"aws:sqs\",\n",
    "  \"eventSourceARN\": \"arn:aws:sqs:us-east-1:454654574096:events.fifo\",\n",
    "  \"awsRegion\": \"us-east-1\"\n",
    "}\n"
   ]
  },
  {
   "cell_type": "code",
   "execution_count": 3,
   "metadata": {},
   "outputs": [],
   "source": [
    "event_obj = Event()\n",
    "event_obj.parse(start_msg)"
   ]
  },
  {
   "cell_type": "code",
   "execution_count": 5,
   "metadata": {},
   "outputs": [
    {
     "name": "stdout",
     "output_type": "stream",
     "text": [
      "Client: 245678\n",
      "UUID: 97e53c55-cdc0-40b4-87a0-a51cdd4c17d3\n",
      "Type: start\n",
      "Time: 0\n",
      "Body: {'ip': '185.175.34.202', 'agent': 'Mozilla/5.0 (Macintosh; Intel Mac OS X 10_15_7) AppleWebKit/537.36 (KHTML, like Gecko) Chrome/92.0.4515.107 Safari/537.36', 'screen_size': '2560x1440', 'time_zone': '+3'}\n",
      "\n"
     ]
    }
   ],
   "source": [
    "print(event_obj)"
   ]
  },
  {
   "cell_type": "code",
   "execution_count": 9,
   "metadata": {},
   "outputs": [],
   "source": [
    "ua_string = event_obj.body['agent']\n",
    "user_agent = parse(ua_string)"
   ]
  },
  {
   "cell_type": "code",
   "execution_count": 10,
   "metadata": {},
   "outputs": [
    {
     "data": {
      "text/plain": [
       "('Chrome', (92, 0, 4515))"
      ]
     },
     "execution_count": 10,
     "metadata": {},
     "output_type": "execute_result"
    }
   ],
   "source": [
    "user_agent.browser.family, user_agent.browser.version"
   ]
  },
  {
   "cell_type": "code",
   "execution_count": 11,
   "metadata": {},
   "outputs": [
    {
     "data": {
      "text/plain": [
       "('Mac OS X', (10, 15, 7))"
      ]
     },
     "execution_count": 11,
     "metadata": {},
     "output_type": "execute_result"
    }
   ],
   "source": [
    "user_agent.os.family, user_agent.os.version"
   ]
  },
  {
   "cell_type": "code",
   "execution_count": 12,
   "metadata": {},
   "outputs": [
    {
     "data": {
      "text/plain": [
       "('Mac', 'Apple', 'Mac')"
      ]
     },
     "execution_count": 12,
     "metadata": {},
     "output_type": "execute_result"
    }
   ],
   "source": [
    "user_agent.device.family, user_agent.device.brand, user_agent.device.model"
   ]
  },
  {
   "cell_type": "code",
   "execution_count": 13,
   "metadata": {},
   "outputs": [
    {
     "data": {
      "text/plain": [
       "(False, False, False, True, False)"
      ]
     },
     "execution_count": 13,
     "metadata": {},
     "output_type": "execute_result"
    }
   ],
   "source": [
    "user_agent.is_mobile, user_agent.is_tablet, user_agent.is_touch_capable, user_agent.is_pc, user_agent.is_bot"
   ]
  },
  {
   "cell_type": "code",
   "execution_count": null,
   "metadata": {},
   "outputs": [],
   "source": []
  },
  {
   "cell_type": "code",
   "execution_count": null,
   "metadata": {},
   "outputs": [],
   "source": []
  }
 ],
 "metadata": {
  "kernelspec": {
   "display_name": "Python 3",
   "language": "python",
   "name": "python3"
  },
  "language_info": {
   "codemirror_mode": {
    "name": "ipython",
    "version": 3
   },
   "file_extension": ".py",
   "mimetype": "text/x-python",
   "name": "python",
   "nbconvert_exporter": "python",
   "pygments_lexer": "ipython3",
   "version": "3.8.6"
  }
 },
 "nbformat": 4,
 "nbformat_minor": 4
}
